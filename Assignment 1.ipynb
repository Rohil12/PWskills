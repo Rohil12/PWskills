{
 "cells": [
  {
   "cell_type": "code",
   "execution_count": 3,
   "id": "e024fd63-6ace-4e4a-abe8-122df131ede2",
   "metadata": {},
   "outputs": [],
   "source": [
    "a=\"abcd\"\n"
   ]
  },
  {
   "cell_type": "code",
   "execution_count": 12,
   "id": "9ee084cb-3bca-4aca-bb36-34b09cc8fc89",
   "metadata": {},
   "outputs": [],
   "source": [
    "list=(1234,43,434,\"aba\")\n",
    "e=list"
   ]
  },
  {
   "cell_type": "code",
   "execution_count": 3,
   "id": "803f5613-9930-471e-ac60-e5fb3cb4665a",
   "metadata": {},
   "outputs": [],
   "source": [
    "c=3.14"
   ]
  },
  {
   "cell_type": "code",
   "execution_count": 1,
   "id": "6729de77-d8ae-4a6c-a3a5-4ccf1c93906f",
   "metadata": {},
   "outputs": [],
   "source": [
    "b=(12,\"asd\",43,\"vdv\",34)\n"
   ]
  },
  {
   "cell_type": "code",
   "execution_count": 1,
   "id": "7d1cfc6c-b53f-4582-8117-65763fcee2b3",
   "metadata": {},
   "outputs": [],
   "source": [
    "var1=''"
   ]
  },
  {
   "cell_type": "code",
   "execution_count": 2,
   "id": "86c6df29-9f9f-45c6-8e9a-0b3681024b06",
   "metadata": {},
   "outputs": [],
   "source": [
    "var2='[DS,ML,python]'\n",
    "var3=['DS','ML','Python']\n",
    "var4=1"
   ]
  },
  {
   "cell_type": "code",
   "execution_count": 4,
   "id": "80ac02a9-3387-4c3c-9976-7615a7c759e3",
   "metadata": {},
   "outputs": [
    {
     "data": {
      "text/plain": [
       "str"
      ]
     },
     "execution_count": 4,
     "metadata": {},
     "output_type": "execute_result"
    }
   ],
   "source": [
    "type(var1)"
   ]
  },
  {
   "cell_type": "code",
   "execution_count": 5,
   "id": "581dbf25-dd22-4524-a5ef-f22908819ae5",
   "metadata": {},
   "outputs": [
    {
     "data": {
      "text/plain": [
       "str"
      ]
     },
     "execution_count": 5,
     "metadata": {},
     "output_type": "execute_result"
    }
   ],
   "source": [
    "type(var2)"
   ]
  },
  {
   "cell_type": "code",
   "execution_count": 6,
   "id": "cbf297f8-031d-40ce-8b60-fceb4b6b8bb8",
   "metadata": {},
   "outputs": [
    {
     "data": {
      "text/plain": [
       "list"
      ]
     },
     "execution_count": 6,
     "metadata": {},
     "output_type": "execute_result"
    }
   ],
   "source": [
    "type(var3)"
   ]
  },
  {
   "cell_type": "code",
   "execution_count": 7,
   "id": "1ecc2b95-665f-40c3-b8f3-540f7c0da9b8",
   "metadata": {},
   "outputs": [
    {
     "data": {
      "text/plain": [
       "int"
      ]
     },
     "execution_count": 7,
     "metadata": {},
     "output_type": "execute_result"
    }
   ],
   "source": [
    "type(var4)"
   ]
  },
  {
   "cell_type": "code",
   "execution_count": 21,
   "id": "c6e6e035-15c9-4542-bcb9-d840afd32a69",
   "metadata": {},
   "outputs": [
    {
     "data": {
      "text/plain": [
       "10.666666666666666"
      ]
     },
     "execution_count": 21,
     "metadata": {},
     "output_type": "execute_result"
    }
   ],
   "source": [
    "32/3 #divison "
   ]
  },
  {
   "cell_type": "code",
   "execution_count": 19,
   "id": "70050a95-7ebc-4aa3-9747-f11acbb6bde1",
   "metadata": {},
   "outputs": [
    {
     "data": {
      "text/plain": [
       "0.11499999999068677"
      ]
     },
     "execution_count": 19,
     "metadata": {},
     "output_type": "execute_result"
    }
   ],
   "source": [
    "1234656.115%2.25 # Remainder of a divison"
   ]
  },
  {
   "cell_type": "code",
   "execution_count": 20,
   "id": "861eda13-39c1-4f01-b03f-de7f55300885",
   "metadata": {},
   "outputs": [
    {
     "data": {
      "text/plain": [
       "10"
      ]
     },
     "execution_count": 20,
     "metadata": {},
     "output_type": "execute_result"
    }
   ],
   "source": [
    "32//3 # For rounding figuer when dividing "
   ]
  },
  {
   "cell_type": "code",
   "execution_count": 23,
   "id": "28682b7d-09a7-4208-a9d6-4522ed0c93ee",
   "metadata": {},
   "outputs": [
    {
     "data": {
      "text/plain": [
       "32"
      ]
     },
     "execution_count": 23,
     "metadata": {},
     "output_type": "execute_result"
    }
   ],
   "source": [
    "2**5 # first int raised to power with second int "
   ]
  },
  {
   "cell_type": "code",
   "execution_count": 9,
   "id": "7f13f354-5131-4b22-b827-cf9b9f93dca6",
   "metadata": {},
   "outputs": [],
   "source": [
    "list=[23,\"back\",67,\"salary\",799,100.789,\"abdas\",45.12,\"quenched\",454]"
   ]
  },
  {
   "cell_type": "code",
   "execution_count": 23,
   "id": "7f3b1370-965a-47c6-99ce-c90ddc2f766f",
   "metadata": {},
   "outputs": [
    {
     "name": "stdout",
     "output_type": "stream",
     "text": [
      "23 <class 'int'>\n",
      "back <class 'str'>\n",
      "67 <class 'int'>\n",
      "salary <class 'str'>\n",
      "799 <class 'int'>\n",
      "100.789 <class 'float'>\n",
      "abdas <class 'str'>\n",
      "45.12 <class 'float'>\n",
      "quenched <class 'str'>\n",
      "454 <class 'int'>\n"
     ]
    }
   ],
   "source": [
    "\n",
    "for item in list:\n",
    "    print (item,type(item))\n",
    "     \n",
    "         "
   ]
  },
  {
   "cell_type": "code",
   "execution_count": 4,
   "id": "de671d0d-1650-4bb1-a25e-c3db07110b21",
   "metadata": {},
   "outputs": [
    {
     "name": "stdin",
     "output_type": "stream",
     "text": [
      "Enter number 1000000\n",
      "Enter 2 number 2\n"
     ]
    },
    {
     "name": "stdout",
     "output_type": "stream",
     "text": [
      "1\n",
      "2\n",
      "3\n",
      "4\n",
      "5\n",
      "6\n"
     ]
    }
   ],
   "source": [
    "A=int(input(\"Enter number\"))\n",
    "B=int(input(\"Enter 2 number\"))\n",
    "count=int(0)\n",
    "while A%B==0:\n",
    "    A=A/B\n",
    "    count=count+1\n",
    "    print(count)\n",
    "\n",
    "    \n",
    "    "
   ]
  },
  {
   "cell_type": "code",
   "execution_count": 9,
   "id": "e563b17a-4b61-47f8-9a03-beae57dc6355",
   "metadata": {},
   "outputs": [
    {
     "name": "stdout",
     "output_type": "stream",
     "text": [
      "0 Divisble\n",
      "1 Not divisble \n",
      "2 Not divisble \n",
      "3 Divisble\n",
      "4 Not divisble \n",
      "5 Not divisble \n",
      "6 Divisble\n",
      "7 Not divisble \n",
      "8 Not divisble \n",
      "9 Divisble\n",
      "10 Not divisble \n",
      "11 Not divisble \n",
      "12 Divisble\n",
      "13 Not divisble \n",
      "14 Not divisble \n",
      "15 Divisble\n",
      "16 Not divisble \n",
      "17 Not divisble \n",
      "18 Divisble\n",
      "19 Not divisble \n",
      "20 Not divisble \n",
      "21 Divisble\n",
      "22 Not divisble \n",
      "23 Not divisble \n"
     ]
    }
   ],
   "source": [
    "result_list = [a for a in range(24)]\n",
    "for num in result_list:\n",
    "    if num%3==0:\n",
    "        print((num),\"Divisble\")\n",
    "    else:\n",
    "        print(num,\"Not divisble \")"
   ]
  },
  {
   "cell_type": "code",
   "execution_count": 10,
   "id": "75d4e3d6-a42a-4353-bd08-69a586283ec0",
   "metadata": {},
   "outputs": [],
   "source": [
    "#Mutable data type include lists as they can be modified after initalizing of the list \n",
    "result_list[5]=121231111"
   ]
  },
  {
   "cell_type": "code",
   "execution_count": 11,
   "id": "3571301a-d3e8-4140-bb42-bedf544bb4d2",
   "metadata": {},
   "outputs": [
    {
     "name": "stdout",
     "output_type": "stream",
     "text": [
      "[0, 1, 2, 3, 4, 121231111, 6, 7, 8, 9, 10, 11, 12, 13, 14, 15, 16, 17, 18, 19, 20, 21, 22, 23]\n"
     ]
    }
   ],
   "source": [
    "print(result_list)"
   ]
  },
  {
   "cell_type": "code",
   "execution_count": 15,
   "id": "54a9dc5a-1733-44a8-a849-9c86fe3b33a6",
   "metadata": {},
   "outputs": [
    {
     "name": "stdout",
     "output_type": "stream",
     "text": [
      "<class 'int'>\n",
      "<class 'str'>\n",
      "<class 'float'>\n"
     ]
    }
   ],
   "source": [
    "#immutable data type include int,string,float as they do not modified data they replace it with new data in that location \n",
    "a=132\n",
    "b=\"adf\"\n",
    "c=12.12\n",
    "print (type(a))\n",
    "print (type(b))\n",
    "print (type(c))"
   ]
  },
  {
   "cell_type": "code",
   "execution_count": 16,
   "id": "b96eb37a-160d-4b90-ae04-599e29ec8bea",
   "metadata": {},
   "outputs": [
    {
     "name": "stdout",
     "output_type": "stream",
     "text": [
      "<class 'str'> <class 'float'> <class 'int'>\n"
     ]
    }
   ],
   "source": [
    "a=\"adad\"\n",
    "b=78.94\n",
    "c=154\n",
    "print(type(a),type(b),type(c))"
   ]
  },
  {
   "cell_type": "code",
   "execution_count": null,
   "id": "18aa1f0e-ca1a-492d-9f89-fe9d1d2995a8",
   "metadata": {},
   "outputs": [],
   "source": []
  }
 ],
 "metadata": {
  "kernelspec": {
   "display_name": "Python 3 (ipykernel)",
   "language": "python",
   "name": "python3"
  },
  "language_info": {
   "codemirror_mode": {
    "name": "ipython",
    "version": 3
   },
   "file_extension": ".py",
   "mimetype": "text/x-python",
   "name": "python",
   "nbconvert_exporter": "python",
   "pygments_lexer": "ipython3",
   "version": "3.10.8"
  }
 },
 "nbformat": 4,
 "nbformat_minor": 5
}
